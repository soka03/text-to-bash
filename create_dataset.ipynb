{
 "cells": [
  {
   "cell_type": "code",
   "execution_count": null,
   "id": "ad63028b",
   "metadata": {},
   "outputs": [],
   "source": [
    "from openai import OpenAI\n",
    "import pandas as pd\n",
    "import os\n",
    "import tqdm\n",
    "import time\n",
    "from datasets import load_dataset\n",
    "\n",
    "OPENAI_API_KEY = '-'"
   ]
  },
  {
   "cell_type": "code",
   "execution_count": 12,
   "id": "d40f719b",
   "metadata": {},
   "outputs": [
    {
     "data": {
      "application/vnd.jupyter.widget-view+json": {
       "model_id": "7c90824f0a3d42a88a046dc1b8651ffc",
       "version_major": 2,
       "version_minor": 0
      },
      "text/plain": [
       "README.md:   0%|          | 0.00/119 [00:00<?, ?B/s]"
      ]
     },
     "metadata": {},
     "output_type": "display_data"
    },
    {
     "data": {
      "application/vnd.jupyter.widget-view+json": {
       "model_id": "b15b2804f0a0468485eab7f3fec4c2e8",
       "version_major": 2,
       "version_minor": 0
      },
      "text/plain": [
       "nl2bash.py:   0%|          | 0.00/2.24k [00:00<?, ?B/s]"
      ]
     },
     "metadata": {},
     "output_type": "display_data"
    },
    {
     "data": {
      "application/vnd.jupyter.widget-view+json": {
       "model_id": "70480fe0388448b5a2032055af3c1604",
       "version_major": 2,
       "version_minor": 0
      },
      "text/plain": [
       "0000.parquet:   0%|          | 0.00/435k [00:00<?, ?B/s]"
      ]
     },
     "metadata": {},
     "output_type": "display_data"
    },
    {
     "data": {
      "application/vnd.jupyter.widget-view+json": {
       "model_id": "43188942e6f8407c87f86c0e31459309",
       "version_major": 2,
       "version_minor": 0
      },
      "text/plain": [
       "0000.parquet:   0%|          | 0.00/40.6k [00:00<?, ?B/s]"
      ]
     },
     "metadata": {},
     "output_type": "display_data"
    },
    {
     "data": {
      "application/vnd.jupyter.widget-view+json": {
       "model_id": "64666ef9aa8c47dc92cb7b8f042378e9",
       "version_major": 2,
       "version_minor": 0
      },
      "text/plain": [
       "0000.parquet:   0%|          | 0.00/40.7k [00:00<?, ?B/s]"
      ]
     },
     "metadata": {},
     "output_type": "display_data"
    },
    {
     "data": {
      "application/vnd.jupyter.widget-view+json": {
       "model_id": "a3897a7e13144dfdac3cbb071bf28630",
       "version_major": 2,
       "version_minor": 0
      },
      "text/plain": [
       "Generating train split:   0%|          | 0/8090 [00:00<?, ? examples/s]"
      ]
     },
     "metadata": {},
     "output_type": "display_data"
    },
    {
     "data": {
      "application/vnd.jupyter.widget-view+json": {
       "model_id": "17ed9c06c2d24b4fad1a25723ee2236e",
       "version_major": 2,
       "version_minor": 0
      },
      "text/plain": [
       "Generating validation split:   0%|          | 0/609 [00:00<?, ? examples/s]"
      ]
     },
     "metadata": {},
     "output_type": "display_data"
    },
    {
     "data": {
      "application/vnd.jupyter.widget-view+json": {
       "model_id": "e3e76f436b9a441b9ca4c1a9e40356be",
       "version_major": 2,
       "version_minor": 0
      },
      "text/plain": [
       "Generating test split:   0%|          | 0/606 [00:00<?, ? examples/s]"
      ]
     },
     "metadata": {},
     "output_type": "display_data"
    },
    {
     "name": "stdout",
     "output_type": "stream",
     "text": [
      "저장 완료: 8090개 명령어 → nl2bash_full.csv\n"
     ]
    }
   ],
   "source": [
    "dataset = load_dataset(\"jiacheng-ye/nl2bash\", split=\"train\")\n",
    "\n",
    "df = pd.DataFrame(dataset)\n",
    "\n",
    "df.to_csv(\"nl2bash_full.csv\", index=False, encoding=\"utf-8-sig\")\n",
    "print(f\"저장 완료: {len(df)}개 명령어 → nl2bash_full.csv\")"
   ]
  },
  {
   "cell_type": "code",
   "execution_count": 2,
   "id": "9466c485",
   "metadata": {},
   "outputs": [],
   "source": [
    "df = pd.read_csv(\"nl2bash_full.csv\")\n",
    "english_nls = df[\"nl\"].tolist()\n",
    "bash_cmds = df[\"bash\"].tolist()"
   ]
  },
  {
   "cell_type": "code",
   "execution_count": 3,
   "id": "2186b6ef",
   "metadata": {},
   "outputs": [
    {
     "name": "stdout",
     "output_type": "stream",
     "text": [
      "번역 중 0 ~ 99\n",
      "번역 중 100 ~ 199\n",
      "번역 중 200 ~ 299\n",
      "번역 중 300 ~ 399\n",
      "번역 중 400 ~ 499\n",
      "번역 중 500 ~ 599\n",
      "번역 중 600 ~ 699\n",
      "번역 중 700 ~ 799\n",
      "번역 중 800 ~ 899\n",
      "번역 중 900 ~ 999\n",
      "번역 중 1000 ~ 1099\n",
      "번역 중 1100 ~ 1199\n",
      "번역 중 1200 ~ 1299\n",
      "번역 중 1300 ~ 1399\n",
      "번역 중 1400 ~ 1499\n",
      "번역 중 1500 ~ 1599\n",
      "누락 감지: 99 / 100\n",
      "번역 중 1600 ~ 1699\n",
      "번역 중 1700 ~ 1799\n",
      "번역 중 1800 ~ 1899\n",
      "번역 중 1900 ~ 1999\n",
      "번역 중 2000 ~ 2099\n",
      "번역 중 2100 ~ 2199\n",
      "번역 중 2200 ~ 2299\n",
      "번역 중 2300 ~ 2399\n",
      "번역 중 2400 ~ 2499\n",
      "번역 중 2500 ~ 2599\n",
      "번역 중 2600 ~ 2699\n",
      "번역 중 2700 ~ 2799\n",
      "번역 중 2800 ~ 2899\n",
      "번역 중 2900 ~ 2999\n",
      "번역 중 3000 ~ 3099\n",
      "번역 중 3100 ~ 3199\n",
      "번역 중 3200 ~ 3299\n",
      "번역 중 3300 ~ 3399\n",
      "번역 중 3400 ~ 3499\n",
      "번역 중 3500 ~ 3599\n",
      "번역 중 3600 ~ 3699\n",
      "번역 중 3700 ~ 3799\n",
      "번역 중 3800 ~ 3899\n",
      "번역 중 3900 ~ 3999\n",
      "번역 중 4000 ~ 4099\n",
      "번역 중 4100 ~ 4199\n",
      "번역 중 4200 ~ 4299\n",
      "번역 중 4300 ~ 4399\n",
      "번역 중 4400 ~ 4499\n",
      "번역 중 4500 ~ 4599\n",
      "번역 중 4600 ~ 4699\n",
      "번역 중 4700 ~ 4799\n",
      "번역 중 4800 ~ 4899\n",
      "번역 중 4900 ~ 4999\n",
      "번역 중 5000 ~ 5099\n",
      "번역 중 5100 ~ 5199\n",
      "번역 중 5200 ~ 5299\n",
      "번역 중 5300 ~ 5399\n",
      "번역 중 5400 ~ 5499\n",
      "번역 중 5500 ~ 5599\n",
      "번역 중 5600 ~ 5699\n",
      "번역 중 5700 ~ 5799\n",
      "번역 중 5800 ~ 5899\n",
      "번역 중 5900 ~ 5999\n",
      "번역 중 6000 ~ 6099\n",
      "번역 중 6100 ~ 6199\n",
      "번역 중 6200 ~ 6299\n",
      "번역 중 6300 ~ 6399\n",
      "번역 중 6400 ~ 6499\n",
      "번역 중 6500 ~ 6599\n",
      "번역 중 6600 ~ 6699\n",
      "번역 중 6700 ~ 6799\n",
      "번역 중 6800 ~ 6899\n",
      "번역 중 6900 ~ 6999\n",
      "번역 중 7000 ~ 7099\n",
      "번역 중 7100 ~ 7199\n",
      "번역 중 7200 ~ 7299\n",
      "번역 중 7300 ~ 7399\n",
      "번역 중 7400 ~ 7499\n",
      "번역 중 7500 ~ 7599\n",
      "번역 중 7600 ~ 7699\n",
      "번역 중 7700 ~ 7799\n",
      "번역 중 7800 ~ 7899\n",
      "번역 중 7900 ~ 7999\n",
      "번역 중 8000 ~ 8089\n"
     ]
    }
   ],
   "source": [
    "client = OpenAI(api_key=OPENAI_API_KEY)\n",
    "\n",
    "def translate_batch(texts):\n",
    "    prompt = \"다음 명령어 설명을 자연스럽고 정확한 한국어로 번역해줘:\\n\\n\"\n",
    "    for i, t in enumerate(texts):\n",
    "        prompt += f\"{i+1}. {t}\\n\"\n",
    "\n",
    "    response = client.chat.completions.create(\n",
    "        model=\"gpt-4\",\n",
    "        messages=[{\"role\": \"user\", \"content\": prompt}],\n",
    "        temperature=0.3\n",
    "    )\n",
    "    return response.choices[0].message.content\n",
    "\n",
    "paired_results = []\n",
    "batch_size = 100   \n",
    "sleep_sec = 0.8   \n",
    "\n",
    "for i in range(0, len(english_nls), batch_size):\n",
    "    batch_nls = english_nls[i:i+batch_size]\n",
    "    batch_bash = bash_cmds[i:i+batch_size]\n",
    "\n",
    "    print(f\"번역 중 {i} ~ {i + len(batch_nls) - 1}\")\n",
    "\n",
    "    try:\n",
    "        result = translate_batch(batch_nls)\n",
    "        lines = [line.split(\".\", 1)[1].strip() for line in result.strip().split(\"\\n\") if \".\" in line]\n",
    "\n",
    "        # 누락 보정\n",
    "        if len(lines) < len(batch_nls):\n",
    "            print(f\"누락 감지: {len(lines)} / {len(batch_nls)}\")\n",
    "            lines += [\"__MISSING__\"] * (len(batch_nls) - len(lines))\n",
    "\n",
    "        paired_results.extend(zip(lines, batch_bash))\n",
    "\n",
    "    except Exception as e:\n",
    "        print(f\"오류 발생: {e}\")\n",
    "        paired_results.extend(zip([\"__MISSING__\"] * len(batch_nls), batch_bash))\n",
    "\n",
    "    time.sleep(sleep_sec) "
   ]
  },
  {
   "cell_type": "code",
   "execution_count": null,
   "id": "55344183",
   "metadata": {},
   "outputs": [
    {
     "name": "stdout",
     "output_type": "stream",
     "text": [
      "저장 완료: korean_nl2bash.csv\n"
     ]
    }
   ],
   "source": [
    "# 저장\n",
    "df_translated = pd.DataFrame(paired_results, columns=[\"instruction\", \"output\"])\n",
    "df_translated.to_csv(\"./dataset/korean_nl2bash.csv\", index=False, encoding=\"utf-8-sig\")\n",
    "\n",
    "print(\"저장 완료: korean_nl2bash.csv\")"
   ]
  },
  {
   "cell_type": "code",
   "execution_count": null,
   "id": "8b9542fd",
   "metadata": {},
   "outputs": [
    {
     "data": {
      "application/vnd.jupyter.widget-view+json": {
       "model_id": "7d674621aed14e519693eccc14b72195",
       "version_major": 2,
       "version_minor": 0
      },
      "text/plain": [
       "Generating train split: 0 examples [00:00, ? examples/s]"
      ]
     },
     "metadata": {},
     "output_type": "display_data"
    },
    {
     "data": {
      "application/vnd.jupyter.widget-view+json": {
       "model_id": "85cf7f4d3d5a454ea309c0b8a65d2c51",
       "version_major": 2,
       "version_minor": 0
      },
      "text/plain": [
       "Uploading the dataset shards:   0%|          | 0/1 [00:00<?, ?it/s]"
      ]
     },
     "metadata": {},
     "output_type": "display_data"
    },
    {
     "data": {
      "application/vnd.jupyter.widget-view+json": {
       "model_id": "d3eadfb3cc214f54a0ea808c1d72cbae",
       "version_major": 2,
       "version_minor": 0
      },
      "text/plain": [
       "Creating parquet from Arrow format:   0%|          | 0/9 [00:00<?, ?ba/s]"
      ]
     },
     "metadata": {},
     "output_type": "display_data"
    },
    {
     "data": {
      "text/plain": [
       "CommitInfo(commit_url='https://huggingface.co/datasets/rlawltjd/korean-nl2bash/commit/02dd36b0da90df69b664c7a2bb6157e5bea46b5d', commit_message='Upload dataset', commit_description='', oid='02dd36b0da90df69b664c7a2bb6157e5bea46b5d', pr_url=None, repo_url=RepoUrl('https://huggingface.co/datasets/rlawltjd/korean-nl2bash', endpoint='https://huggingface.co', repo_type='dataset', repo_id='rlawltjd/korean-nl2bash'), pr_revision=None, pr_num=None)"
      ]
     },
     "execution_count": 4,
     "metadata": {},
     "output_type": "execute_result"
    }
   ],
   "source": [
    "from datasets import Dataset, DatasetDict\n",
    "from huggingface_hub import HfApi, HfFolder\n",
    "\n",
    "csv_path = \"korean_nl2bash.csv\"\n",
    "\n",
    "dataset = Dataset.from_csv(f'./dataset/{csv_path}')\n",
    "\n",
    "dataset_dict = DatasetDict({\n",
    "    \"train\": dataset\n",
    "})\n",
    "\n",
    "repo_id = \"rlawltjd/korean-nl2bash\"\n",
    "\n",
    "dataset_dict.push_to_hub(repo_id)\n"
   ]
  }
 ],
 "metadata": {
  "kernelspec": {
   "display_name": "Python 3 (ipykernel)",
   "language": "python",
   "name": "python3"
  },
  "language_info": {
   "codemirror_mode": {
    "name": "ipython",
    "version": 3
   },
   "file_extension": ".py",
   "mimetype": "text/x-python",
   "name": "python",
   "nbconvert_exporter": "python",
   "pygments_lexer": "ipython3",
   "version": "3.11.10"
  }
 },
 "nbformat": 4,
 "nbformat_minor": 5
}
